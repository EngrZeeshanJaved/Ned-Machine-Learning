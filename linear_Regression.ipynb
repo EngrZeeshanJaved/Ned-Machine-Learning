{
 "cells": [
  {
   "cell_type": "code",
   "execution_count": 1,
   "id": "0425979e-39bb-48d2-aeb6-16d99098a597",
   "metadata": {},
   "outputs": [],
   "source": [
    "import pandas as pd\n",
    "import numpy as np\n",
    "import matplotlib.pyplot as plt"
   ]
  },
  {
   "cell_type": "code",
   "execution_count": 2,
   "id": "7a4abe19-f033-42cc-abba-e4e10b1b1021",
   "metadata": {},
   "outputs": [
    {
     "name": "stdout",
     "output_type": "stream",
     "text": [
      "<class 'pandas.core.frame.DataFrame'>\n",
      "RangeIndex: 10000 entries, 0 to 9999\n",
      "Data columns (total 3 columns):\n",
      " #   Column  Non-Null Count  Dtype  \n",
      "---  ------  --------------  -----  \n",
      " 0   Gender  10000 non-null  object \n",
      " 1   Height  10000 non-null  float64\n",
      " 2   Weight  10000 non-null  float64\n",
      "dtypes: float64(2), object(1)\n",
      "memory usage: 234.5+ KB\n"
     ]
    }
   ],
   "source": [
    "df = pd.read_csv(\"weight-height.csv\")\n",
    "df.info()"
   ]
  },
  {
   "cell_type": "code",
   "execution_count": 3,
   "id": "f9f6fd74-5a92-4fa6-b99f-74fb5b02dec2",
   "metadata": {},
   "outputs": [
    {
     "data": {
      "text/html": [
       "<div>\n",
       "<style scoped>\n",
       "    .dataframe tbody tr th:only-of-type {\n",
       "        vertical-align: middle;\n",
       "    }\n",
       "\n",
       "    .dataframe tbody tr th {\n",
       "        vertical-align: top;\n",
       "    }\n",
       "\n",
       "    .dataframe thead th {\n",
       "        text-align: right;\n",
       "    }\n",
       "</style>\n",
       "<table border=\"1\" class=\"dataframe\">\n",
       "  <thead>\n",
       "    <tr style=\"text-align: right;\">\n",
       "      <th></th>\n",
       "      <th>Height</th>\n",
       "      <th>Weight</th>\n",
       "    </tr>\n",
       "  </thead>\n",
       "  <tbody>\n",
       "    <tr>\n",
       "      <th>count</th>\n",
       "      <td>10000.000000</td>\n",
       "      <td>10000.000000</td>\n",
       "    </tr>\n",
       "    <tr>\n",
       "      <th>mean</th>\n",
       "      <td>66.367560</td>\n",
       "      <td>161.440357</td>\n",
       "    </tr>\n",
       "    <tr>\n",
       "      <th>std</th>\n",
       "      <td>3.847528</td>\n",
       "      <td>32.108439</td>\n",
       "    </tr>\n",
       "    <tr>\n",
       "      <th>min</th>\n",
       "      <td>54.263133</td>\n",
       "      <td>64.700127</td>\n",
       "    </tr>\n",
       "    <tr>\n",
       "      <th>25%</th>\n",
       "      <td>63.505620</td>\n",
       "      <td>135.818051</td>\n",
       "    </tr>\n",
       "    <tr>\n",
       "      <th>50%</th>\n",
       "      <td>66.318070</td>\n",
       "      <td>161.212928</td>\n",
       "    </tr>\n",
       "    <tr>\n",
       "      <th>75%</th>\n",
       "      <td>69.174262</td>\n",
       "      <td>187.169525</td>\n",
       "    </tr>\n",
       "    <tr>\n",
       "      <th>max</th>\n",
       "      <td>78.998742</td>\n",
       "      <td>269.989699</td>\n",
       "    </tr>\n",
       "  </tbody>\n",
       "</table>\n",
       "</div>"
      ],
      "text/plain": [
       "             Height        Weight\n",
       "count  10000.000000  10000.000000\n",
       "mean      66.367560    161.440357\n",
       "std        3.847528     32.108439\n",
       "min       54.263133     64.700127\n",
       "25%       63.505620    135.818051\n",
       "50%       66.318070    161.212928\n",
       "75%       69.174262    187.169525\n",
       "max       78.998742    269.989699"
      ]
     },
     "execution_count": 3,
     "metadata": {},
     "output_type": "execute_result"
    }
   ],
   "source": [
    "df.describe()"
   ]
  },
  {
   "cell_type": "code",
   "execution_count": 4,
   "id": "c784ba83-eaed-4e29-9862-f44308c9efea",
   "metadata": {},
   "outputs": [
    {
     "data": {
      "text/html": [
       "<div>\n",
       "<style scoped>\n",
       "    .dataframe tbody tr th:only-of-type {\n",
       "        vertical-align: middle;\n",
       "    }\n",
       "\n",
       "    .dataframe tbody tr th {\n",
       "        vertical-align: top;\n",
       "    }\n",
       "\n",
       "    .dataframe thead th {\n",
       "        text-align: right;\n",
       "    }\n",
       "</style>\n",
       "<table border=\"1\" class=\"dataframe\">\n",
       "  <thead>\n",
       "    <tr style=\"text-align: right;\">\n",
       "      <th></th>\n",
       "      <th>Gender</th>\n",
       "      <th>Height</th>\n",
       "      <th>Weight</th>\n",
       "    </tr>\n",
       "  </thead>\n",
       "  <tbody>\n",
       "    <tr>\n",
       "      <th>0</th>\n",
       "      <td>Male</td>\n",
       "      <td>73.847017</td>\n",
       "      <td>241.893563</td>\n",
       "    </tr>\n",
       "    <tr>\n",
       "      <th>1</th>\n",
       "      <td>Male</td>\n",
       "      <td>68.781904</td>\n",
       "      <td>162.310473</td>\n",
       "    </tr>\n",
       "    <tr>\n",
       "      <th>2</th>\n",
       "      <td>Male</td>\n",
       "      <td>74.110105</td>\n",
       "      <td>212.740856</td>\n",
       "    </tr>\n",
       "    <tr>\n",
       "      <th>3</th>\n",
       "      <td>Male</td>\n",
       "      <td>71.730978</td>\n",
       "      <td>220.042470</td>\n",
       "    </tr>\n",
       "    <tr>\n",
       "      <th>4</th>\n",
       "      <td>Male</td>\n",
       "      <td>69.881796</td>\n",
       "      <td>206.349801</td>\n",
       "    </tr>\n",
       "  </tbody>\n",
       "</table>\n",
       "</div>"
      ],
      "text/plain": [
       "  Gender     Height      Weight\n",
       "0   Male  73.847017  241.893563\n",
       "1   Male  68.781904  162.310473\n",
       "2   Male  74.110105  212.740856\n",
       "3   Male  71.730978  220.042470\n",
       "4   Male  69.881796  206.349801"
      ]
     },
     "execution_count": 4,
     "metadata": {},
     "output_type": "execute_result"
    }
   ],
   "source": [
    "df.head()"
   ]
  },
  {
   "cell_type": "code",
   "execution_count": 5,
   "id": "3c56fcc2-df96-4252-8fbf-3f9d8613a87d",
   "metadata": {},
   "outputs": [
    {
     "data": {
      "text/plain": [
       "array([73.84701702, 68.78190405, 74.11010539, ..., 63.86799221,\n",
       "       69.03424313, 61.94424588])"
      ]
     },
     "execution_count": 5,
     "metadata": {},
     "output_type": "execute_result"
    }
   ],
   "source": [
    "df.Height.values"
   ]
  },
  {
   "cell_type": "code",
   "execution_count": 6,
   "id": "4cdd3eb7-ae4a-4a92-a2e0-eb28d4f0d654",
   "metadata": {},
   "outputs": [
    {
     "data": {
      "text/plain": [
       "array([241.89356318, 162.31047252, 212.74085556, ..., 128.47531878,\n",
       "       163.85246135, 113.64910268])"
      ]
     },
     "execution_count": 6,
     "metadata": {},
     "output_type": "execute_result"
    }
   ],
   "source": [
    "df.Weight.values"
   ]
  },
  {
   "cell_type": "markdown",
   "id": "914f59fb-ce63-406b-8d4b-57df9aa29d58",
   "metadata": {},
   "source": [
    "# split data into input and output"
   ]
  },
  {
   "cell_type": "code",
   "execution_count": 7,
   "id": "5252eef9-5364-4c68-874e-a7ca95479ced",
   "metadata": {},
   "outputs": [
    {
     "name": "stdout",
     "output_type": "stream",
     "text": [
      "10000\n",
      "10000\n"
     ]
    }
   ],
   "source": [
    "X = df.Height.values\n",
    "Y = df.Weight.values\n",
    "print(len(X))\n",
    "print(len(Y))"
   ]
  },
  {
   "cell_type": "code",
   "execution_count": 8,
   "id": "f4d4de93-eb37-4254-8ee4-391d414ea6d1",
   "metadata": {},
   "outputs": [
    {
     "name": "stdout",
     "output_type": "stream",
     "text": [
      "73.847017017515\n",
      "241.893563180437\n"
     ]
    }
   ],
   "source": [
    "print(X[0])\n",
    "print(Y[0])"
   ]
  },
  {
   "cell_type": "code",
   "execution_count": 9,
   "id": "7568eb8f-8f36-4b47-a3d6-92d3502be6a1",
   "metadata": {},
   "outputs": [
    {
     "data": {
      "text/plain": [
       "<matplotlib.collections.PathCollection at 0x256e2f87910>"
      ]
     },
     "execution_count": 9,
     "metadata": {},
     "output_type": "execute_result"
    },
    {
     "data": {
      "image/png": "[encoded data removed]",
      "text/plain": [
       "<Figure size 640x480 with 1 Axes>"
      ]
     },
     "metadata": {},
     "output_type": "display_data"
    }
   ],
   "source": [
    "plt.scatter(X,Y)"
   ]
  },
  {
   "cell_type": "markdown",
   "id": "aac4ef11-396f-4320-a186-356cbe8500e2",
   "metadata": {},
   "source": [
    "# Line Function\n",
    "```\n",
    "Y = WX + b\n",
    "```\n",
    "\n",
    "Algo try to find the W, b"
   ]
  },
  {
   "cell_type": "code",
   "execution_count": 10,
   "id": "3ccfff0b-b642-4f9b-adb1-e39678accc47",
   "metadata": {},
   "outputs": [],
   "source": [
    "def line(x, w, b = 0):\n",
    "    return w*x + b\n",
    "\n",
    "# def line(x, w, b=0):\n",
    "#     return w*x + b"
   ]
  },
  {
   "cell_type": "markdown",
   "id": "9026f30d-54e1-4732-a807-059f3aa7d318",
   "metadata": {},
   "source": [
    "# loss Function"
   ]
  },
  {
   "cell_type": "code",
   "execution_count": 11,
   "id": "9f5e7994-9cfd-4d26-8e6b-a26a5748e410",
   "metadata": {},
   "outputs": [],
   "source": [
    "def mean_squared_error(y_true, y_pred):\n",
    "    s = (y_true - y_pred) ** 2\n",
    "    return np.sqrt(s.mean()) # return single number"
   ]
  },
  {
   "cell_type": "code",
   "execution_count": 12,
   "id": "bc6f0e00-b65f-46f1-a790-3a60012a36d2",
   "metadata": {},
   "outputs": [
    {
     "data": {
      "image/png": "[encoded data removed]",
      "text/plain": [
       "<Figure size 1000x500 with 1 Axes>"
      ]
     },
     "metadata": {},
     "output_type": "display_data"
    }
   ],
   "source": [
    "plt.figure(figsize=(10,5))\n",
    "ax1 = plt.subplot(121)\n",
    "df.plot(kind='scatter', x = 'Height', y = 'Weight', title= \"Weight and Height in Adults\", ax = ax1)\n",
    "\n",
    "\n",
    "# testing\n",
    "bs = [-100,-50,0,50,100,150]\n",
    "mses = []\n",
    "for b in bs:\n",
    "    y_pred = line(X, 2, b)\n",
    "    mse = mean_squared_error(Y, y_pred)\n",
    "    mses.append(mse)\n",
    "    plt.plot(X,y_pred)\n",
    "    # break\n",
    "\n",
    "# plt.figure(figsize=(10,5))\n",
    "# ax1 = plt.subplot(121)\n",
    "# df.plot(kind='scatter',\n",
    "#       x='Height',\n",
    "#       y='Weight',\n",
    "#       title=\"Weight and Height in Adults\",\n",
    "#       ax=ax1)\n",
    "\n",
    "# bs = [-100,-50,0,50,100,150]\n",
    "# mses = []\n",
    "# for b in bs:\n",
    "#     y_pred = line(X,2,b)\n",
    "#     mse = mean_squared_error(Y,y_pred)\n",
    "#     mses.append(mse)\n",
    "#     plt.plot(X,y_pred)\n",
    "# #     break\n",
    "\n",
    "# ax2 = plt.subplot(122)\n",
    "# ax2.plot(bs,mses,'o-')\n",
    "# plt.title(\"Cost as function of b\")\n",
    "# plt.xlabel(\"B\")"
   ]
  },
  {
   "cell_type": "markdown",
   "id": "31dd38f0-7c10-4d67-a5ad-412fa77b2240",
   "metadata": {},
   "source": [
    "```\n",
    "a= (Σy)(Σx2) - (Σx)(Σxy)/ n(Σx2) - (Σx)2\n",
    "```\n",
    "```\n",
    "b= n (Σxy) - (Σx)(Σy) /n(Σx2) - (Σx)2\n",
    "```"
   ]
  },
  {
   "cell_type": "code",
   "execution_count": 13,
   "id": "d307ca6f-9632-465a-8994-19f7b64e374c",
   "metadata": {},
   "outputs": [],
   "source": [
    "def linear_regression(x, y):     \n",
    "    N = len(x)\n",
    "    x_mean = x.mean()\n",
    "    y_mean = y.mean()\n",
    "    \n",
    "    B1_num = ((x - x_mean) * (y - y_mean)).sum()\n",
    "    B1_den = ((x - x_mean)**2).sum()\n",
    "    B1 = B1_num / B1_den\n",
    "    \n",
    "    B0 = y_mean - (B1*x_mean)\n",
    "    \n",
    "    reg_line = 'y = {} + {}β'.format(B0, round(B1, 3))\n",
    "    \n",
    "    return (B0, B1, reg_line)"
   ]
  },
  {
   "cell_type": "code",
   "execution_count": 14,
   "id": "cc5660fe-4faa-4007-8ab6-d7b081eb5e62",
   "metadata": {},
   "outputs": [],
   "source": [
    "def corr_coef(x, y):\n",
    "    N = len(x)\n",
    "    \n",
    "    num = (N * (x*y).sum()) - (x.sum() * y.sum())\n",
    "    den = np.sqrt((N * (x**2).sum() - x.sum()**2) * (N * (y**2).sum() - y.sum()**2))\n",
    "    R = num / den\n",
    "    return R"
   ]
  },
  {
   "cell_type": "code",
   "execution_count": 15,
   "id": "5580a8d4-a2fb-457b-84ba-13aca901f0c9",
   "metadata": {},
   "outputs": [
    {
     "name": "stdout",
     "output_type": "stream",
     "text": [
      "Regression Line:  y = -350.737191812137 + 7.717β\n",
      "Correlation Coef.:  0.9247562987409265\n",
      "\"Goodness of Fit\":  0.8551742120610176\n"
     ]
    }
   ],
   "source": [
    "B0, B1, reg_line = linear_regression(X, Y)\n",
    "print('Regression Line: ', reg_line)\n",
    "R = corr_coef(X, Y)\n",
    "print('Correlation Coef.: ', R)\n",
    "print('\"Goodness of Fit\": ', R**2)"
   ]
  },
  {
   "cell_type": "code",
   "execution_count": 16,
   "id": "2b6447ac-01ec-4b04-993d-9dfc9e3c4b31",
   "metadata": {},
   "outputs": [
    {
     "data": {
      "text/plain": [
       "[<matplotlib.lines.Line2D at 0x256e308c250>]"
      ]
     },
     "execution_count": 16,
     "metadata": {},
     "output_type": "execute_result"
    },
    {
     "data": {
      "image/png": "[encoded data removed]",
      "text/plain": [
       "<Figure size 1000x500 with 1 Axes>"
      ]
     },
     "metadata": {},
     "output_type": "display_data"
    }
   ],
   "source": [
    "plt.figure(figsize=(10,5))\n",
    "ax1 = plt.subplot(121)\n",
    "df.plot(kind='scatter', x = 'Height', y = 'Weight', title= \"Weight and Height in Adults\", ax = ax1)\n",
    "\n",
    "\n",
    "# here sir have passed the machine learning predicted value of w and b\n",
    "# bs = [-100,-50,0,50,100,150]\n",
    "# mses = []\n",
    "# for b in bs:\n",
    "y_pred = line(X, 7.6609, -348.16)\n",
    "    # mse = mean_squared_error(Y, y_pred)\n",
    "    # mses.append(mse)\n",
    "plt.plot(X,y_pred,'r')"
   ]
  },
  {
   "cell_type": "code",
   "execution_count": null,
   "id": "7f9c93e8-ba7e-4d0a-9823-8f909f0f35e0",
   "metadata": {},
   "outputs": [],
   "source": [
    "filename = 'finalized_model.sav'\n",
    "pickle.dump(model, open(filename, 'wb'))"
   ]
  }
 ],
 "metadata": {
  "kernelspec": {
   "display_name": "Python 3 (ipykernel)",
   "language": "python",
   "name": "python3"
  },
  "language_info": {
   "codemirror_mode": {
    "name": "ipython",
    "version": 3
   },
   "file_extension": ".py",
   "mimetype": "text/x-python",
   "name": "python",
   "nbconvert_exporter": "python",
   "pygments_lexer": "ipython3",
   "version": "3.8.16"
  }
 },
 "nbformat": 4,
 "nbformat_minor": 5
}
